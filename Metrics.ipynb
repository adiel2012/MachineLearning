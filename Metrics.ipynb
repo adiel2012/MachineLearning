{
 "cells": [
  {
   "cell_type": "markdown",
   "metadata": {},
   "source": [
    "| | | Predicted condition | | |\n",
    "|---|---|---|---|---|\n",
    "| | **Total population** <br> = P + N | **Predicted Positive (PP)** | **Predicted Negative (PN)** | **Informedness**, bookmaker informedness (BM) <br> = TPR + TNR − 1 | **Prevalence threshold (PT)** <br> = (√(TPR × FPR) - FPR) / (TPR - FPR) |\n",
    "| **Actual condition** | **Positive (P)** | **True positive (TP)**, <br> hit | **False negative (FN)**, <br> miss, underestimation | **True positive rate (TPR)**, recall, sensitivity (SEN), <br> probability of detection, hit rate, power <br> = TP/P = 1 − FNR | **False negative rate (FNR)**, <br> miss rate <br> type II error <br> = FN/P = 1 − TPR |\n",
    "| | **Negative (N)** | **False positive (FP)**, <br> false alarm, overestimation | **True negative (TN)**, <br> correct rejection | **False positive rate (FPR)**, <br> probability of false alarm, fall-out <br> type I error <br> = FP/N = 1 − TNR | **True negative rate (TNR)**, <br> specificity (SPC), selectivity <br> = TN/N = 1 − FPR |\n",
    "| | **Prevalence** <br> = P/(P + N) | **Positive predictive value (PPV)**, precision <br> = TP/PP = 1 − FDR | **False omission rate (FOR)** <br> = FN/PN = 1 − NPV | **Positive likelihood ratio (LR+)** <br> = TPR/FPR | **Negative likelihood ratio (LR−)** <br> = FNR/TNR |\n",
    "| | **Accuracy (ACC)** <br> = (TP + TN)/(P + N) | **False discovery rate (FDR)** <br> = FP/PP = 1 − PPV | **Negative predictive value (NPV)** <br> = TN/PN = 1 − FOR | **Markedness (MK)**, deltaP (Δp) <br> = PPV + NPV − 1 | **Diagnostic odds ratio (DOR)** <br> = LR+/LR− |\n",
    "| | **Balanced accuracy (BA)** <br> = (TPR + TNR)/2 | **F₁ score** <br> = (2 PPV × TPR)/(PPV + TPR) = 2 TP/(2 TP + FP + FN) | **Fowlkes–Mallows index (FM)** <br> = √(PPV × TPR) | **Matthews correlation coefficient (MCC)** <br> = √(TPR × TNR × PPV × NPV) - √(FNR × FPR × FOR × FDR) | **Threat score (TS)**, critical success index (CSI), Jaccard index <br> = TP/(TP + FN + FP) |"
   ]
  },
  {
   "cell_type": "markdown",
   "metadata": {},
   "source": [
    "![Binary Classification Labeled](https://upload.wikimedia.org/wikipedia/commons/thumb/2/26/Binary-classification-labeled.svg/640px-Binary-classification-labeled.svg.png)"
   ]
  }
 ],
 "metadata": {
  "language_info": {
   "name": "python"
  }
 },
 "nbformat": 4,
 "nbformat_minor": 2
}
