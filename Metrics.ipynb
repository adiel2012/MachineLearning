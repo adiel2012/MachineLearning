{
 "cells": [
  {
   "cell_type": "markdown",
   "metadata": {},
   "source": [
    "| | | Predicted condition | | |\n",
    "|---|---|---|---|---|\n",
    "| | **Total population**   = P + N | **Predicted Positive (PP)** | **Predicted Negative (PN)** | **Informedness**, bookmaker informedness (BM)   = TPR + TNR − 1 | **Prevalence threshold (PT)**   = (√(TPR × FPR) - FPR) / (TPR - FPR) |\n",
    "| **Actual condition** | **Positive (P)** | **True positive (TP)**,   hit | **False negative (FN)**,   miss, underestimation | **True positive rate (TPR)**, recall, sensitivity (SEN),   probability of detection, hit rate, power   = TP/P = 1 − FNR | **False negative rate (FNR)**,   miss rate   type II error   = FN/P = 1 − TPR |\n",
    "| | **Negative (N)** | **False positive (FP)**,   false alarm, overestimation | **True negative (TN)**,   correct rejection | **False positive rate (FPR)**,   probability of false alarm, fall-out   type I error   = FP/N = 1 − TNR | **True negative rate (TNR)**,   specificity (SPC), selectivity   = TN/N = 1 − FPR |\n",
    "| | **Prevalence**   = P/(P + N) | **Positive predictive value (PPV)**, precision   = TP/PP = 1 − FDR | **False omission rate (FOR)**   = FN/PN = 1 − NPV | **Positive likelihood ratio (LR+)**   = TPR/FPR | **Negative likelihood ratio (LR−)**   = FNR/TNR |\n",
    "| | **Accuracy (ACC)**   = (TP + TN)/(P + N) | **False discovery rate (FDR)**   = FP/PP = 1 − PPV | **Negative predictive value (NPV)**   = TN/PN = 1 − FOR | **Markedness (MK)**, deltaP (Δp)   = PPV + NPV − 1 | **Diagnostic odds ratio (DOR)**   = LR+/LR− |\n",
    "| | **Balanced accuracy (BA)**   = (TPR + TNR)/2 | **F₁ score**   = (2 PPV × TPR)/(PPV + TPR) = 2 TP/(2 TP + FP + FN) | **Fowlkes–Mallows index (FM)**   = √(PPV × TPR) | **Matthews correlation coefficient (MCC)**   = √(TPR × TNR × PPV × NPV) - √(FNR × FPR × FOR × FDR) | **Threat score (TS)**, critical success index (CSI), Jaccard index   = TP/(TP + FN + FP) |"
   ]
  },
  {
   "cell_type": "markdown",
   "metadata": {},
   "source": [
    "![Binary Classification Labeled](https://upload.wikimedia.org/wikipedia/commons/thumb/2/26/Binary-classification-labeled.svg/640px-Binary-classification-labeled.svg.png)"
   ]
  }
 ],
 "metadata": {
  "language_info": {
   "name": "python"
  }
 },
 "nbformat": 4,
 "nbformat_minor": 2
}
